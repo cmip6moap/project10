{
 "cells": [
  {
   "cell_type": "code",
   "execution_count": 2,
   "id": "e2281a38",
   "metadata": {},
   "outputs": [
    {
     "name": "stderr",
     "output_type": "stream",
     "text": [
      "0it [00:00, ?it/s]\n",
      "0it [00:00, ?it/s]\u001b[A"
     ]
    },
    {
     "name": "stdout",
     "output_type": "stream",
     "text": [
      "HadGEM3-GC31-LL historical r1i1p1f3\n"
     ]
    },
    {
     "name": "stderr",
     "output_type": "stream",
     "text": [
      "\n",
      "1it [00:00,  1.59it/s]\u001b[A"
     ]
    },
    {
     "name": "stdout",
     "output_type": "stream",
     "text": [
      "/work/scratch-pw/champs/hackathon/HadGEM3-GC31-LL/historical/r1i1p1f3/monthly_avg.nc already done\n",
      "HadGEM3-GC31-LL ssp126 r1i1p1f3\n"
     ]
    },
    {
     "name": "stderr",
     "output_type": "stream",
     "text": [
      "\n",
      "2it [00:06,  3.80s/it]\u001b[A"
     ]
    },
    {
     "name": "stdout",
     "output_type": "stream",
     "text": [
      "/work/scratch-pw/champs/hackathon/HadGEM3-GC31-LL/ssp126/r1i1p1f3/monthly_avg.nc already done\n",
      "HadGEM3-GC31-LL ssp245 r1i1p1f3\n"
     ]
    },
    {
     "name": "stderr",
     "output_type": "stream",
     "text": [
      "\n",
      "3it [00:13,  5.30s/it]\u001b[A"
     ]
    },
    {
     "name": "stdout",
     "output_type": "stream",
     "text": [
      "/work/scratch-pw/champs/hackathon/HadGEM3-GC31-LL/ssp245/r1i1p1f3/monthly_avg.nc already done\n",
      "HadGEM3-GC31-LL ssp585 r1i1p1f3\n"
     ]
    },
    {
     "name": "stderr",
     "output_type": "stream",
     "text": [
      "\n",
      "4it [00:19,  4.79s/it]\u001b[A\n",
      "1it [00:19, 19.16s/it]\n",
      "0it [00:00, ?it/s]\u001b[A"
     ]
    },
    {
     "name": "stdout",
     "output_type": "stream",
     "text": [
      "/work/scratch-pw/champs/hackathon/HadGEM3-GC31-LL/ssp585/r1i1p1f3/monthly_avg.nc already done\n",
      "BCC-CSM2-MR historical r1i1p1f1\n"
     ]
    },
    {
     "name": "stderr",
     "output_type": "stream",
     "text": [
      "\n",
      "1it [06:47, 407.72s/it]\u001b[A"
     ]
    },
    {
     "name": "stdout",
     "output_type": "stream",
     "text": [
      "BCC-CSM2-MR ssp126 r1i1p1f1\n"
     ]
    },
    {
     "name": "stderr",
     "output_type": "stream",
     "text": [
      "\n",
      "2it [26:34, 866.01s/it]\u001b[A"
     ]
    },
    {
     "name": "stdout",
     "output_type": "stream",
     "text": [
      "BCC-CSM2-MR ssp245 r1i1p1f1\n"
     ]
    },
    {
     "name": "stderr",
     "output_type": "stream",
     "text": [
      "\n",
      "3it [54:55, 1247.39s/it]\u001b[A"
     ]
    },
    {
     "name": "stdout",
     "output_type": "stream",
     "text": [
      "BCC-CSM2-MR ssp585 r1i1p1f1\n"
     ]
    },
    {
     "name": "stderr",
     "output_type": "stream",
     "text": [
      "\n",
      "4it [1:24:45, 1271.34s/it]\u001b[A\n",
      "2it [1:25:04, 2999.28s/it]\n",
      "0it [00:00, ?it/s]\u001b[A"
     ]
    },
    {
     "name": "stdout",
     "output_type": "stream",
     "text": [
      "CMCC-ESM2 historical r1i1p1f1\n"
     ]
    },
    {
     "name": "stderr",
     "output_type": "stream",
     "text": [
      "\n",
      "1it [09:45, 585.11s/it]\u001b[A"
     ]
    },
    {
     "name": "stdout",
     "output_type": "stream",
     "text": [
      "CMCC-ESM2 ssp126 r1i1p1f1\n"
     ]
    },
    {
     "name": "stderr",
     "output_type": "stream",
     "text": [
      "\n",
      "2it [35:47, 1160.24s/it]\u001b[A"
     ]
    },
    {
     "name": "stdout",
     "output_type": "stream",
     "text": [
      "CMCC-ESM2 ssp245 r1i1p1f1\n"
     ]
    },
    {
     "name": "stderr",
     "output_type": "stream",
     "text": [
      "\n",
      "3it [1:04:06, 1406.12s/it]\u001b[A"
     ]
    },
    {
     "name": "stdout",
     "output_type": "stream",
     "text": [
      "CMCC-ESM2 ssp585 r1i1p1f1\n"
     ]
    },
    {
     "name": "stderr",
     "output_type": "stream",
     "text": [
      "\n",
      "4it [1:26:12, 1293.17s/it]\u001b[A\n",
      "3it [2:51:17, 3425.74s/it]\n"
     ]
    }
   ],
   "source": [
    "from pathlib import Path\n",
    "import xarray as xr\n",
    "from tqdm import tqdm\n",
    "\n",
    "utci_path = Path(\n",
    "    \"/gws/pw/j05/cop26_hackathons/bristol/project10/utci_projections_1deg/\"\n",
    ")\n",
    "\n",
    "scratch_path = Path(\"/work/scratch-pw/champs/hackathon\")\n",
    "# scratch_path.mkdir(exist_ok=False)\n",
    "\n",
    "file_nested_list = []\n",
    "model_list = []\n",
    "scenario_list = []\n",
    "runid_list = []\n",
    "\n",
    "\n",
    "for model_path in tqdm(utci_path.glob(\"*\")):\n",
    "    model = str(model_path).split(\"/\")[-1]\n",
    "    model_list.append(model)\n",
    "    file_nested_list.append([])\n",
    "        \n",
    "    scenario_ds = {}\n",
    "    \n",
    "    # Get the scenario datasets\n",
    "    for scenario_path in tqdm(model_path.glob(\"*\")):\n",
    "        scenario = str(scenario_path).split(\"/\")[-1]\n",
    "        scenario_list.append(scenario)\n",
    "        file_nested_list[-1].append([])\n",
    "        \n",
    "        for runid_path in scenario_path.glob(\"*\"):\n",
    "            runid = str(runid_path).split(\"/\")[-1]\n",
    "            runid_list.append(runid)\n",
    "\n",
    "            print(model, scenario, runid)\n",
    "            files = list(runid_path.glob(\"*\"))\n",
    "            file_nested_list[-1][-1].append(files)\n",
    "\n",
    "            ds =  xr.open_mfdataset(files, concat_dim=\"time\")\n",
    "            \n",
    "            out_path = scratch_path / model / scenario / runid / \"monthly_avg.nc\"\n",
    "            if out_path.is_file():\n",
    "                print(out_path, \"already done\")\n",
    "                continue\n",
    "            out_path.parent.mkdir(parents=True, exist_ok=False)\n",
    "            ds.resample(time=\"M\").mean().to_netcdf(out_path)\n",
    "\n",
    "            # Now break, and we will re-loop it later\n",
    "            break # there should be only one runid at this point..."
   ]
  },
  {
   "cell_type": "code",
   "execution_count": null,
   "id": "13cf8134",
   "metadata": {},
   "outputs": [],
   "source": []
  }
 ],
 "metadata": {
  "kernelspec": {
   "display_name": "Python 3",
   "language": "python",
   "name": "python3"
  },
  "language_info": {
   "codemirror_mode": {
    "name": "ipython",
    "version": 3
   },
   "file_extension": ".py",
   "mimetype": "text/x-python",
   "name": "python",
   "nbconvert_exporter": "python",
   "pygments_lexer": "ipython3",
   "version": "3.8.10"
  }
 },
 "nbformat": 4,
 "nbformat_minor": 5
}

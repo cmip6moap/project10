{
 "cells": [
  {
   "cell_type": "code",
   "execution_count": null,
   "metadata": {},
   "outputs": [],
   "source": [
    "##Seb and Lauren created this very rookie code which doesn't run (sorry!). We've tried to make comments throughout for more specific errors\n",
    "##or parts we were stuck on"
   ]
  },
  {
   "cell_type": "code",
   "execution_count": 18,
   "metadata": {},
   "outputs": [],
   "source": [
    "import matplotlib.pyplot as plt\n",
    "import matplotlib.cm as cm\n",
    "import matplotlib.colors as mcol\n",
    "import sys\n",
    "import os\n",
    "import cartopy.crs as ccrs\n",
    "import cartopy.feature as cf\n",
    "import numpy as np\n",
    "import iris.quickplot as qplt\n",
    "from iris import load_cube\n",
    "from iris import coord_systems\n",
    "import iris.analysis.cartography\n",
    "import iris.plot as iplt\n",
    "import iris.coords as icoords\n",
    "import iris.coord_categorisation"
   ]
  },
  {
   "cell_type": "code",
   "execution_count": 19,
   "metadata": {},
   "outputs": [],
   "source": [
    "##lauren's code\n",
    "##this will feed into the main program to return tasmin (or whatever the FIELD is set to) for each SSP, for each model\n",
    "def individual_model(model):\n",
    "    scenario = 'ssp585'\n",
    "    FILENAME = '/badc/cmip6/data/CMIP6/ScenarioMIP/MOHC/' + model + '/' + scenario + '/r1i1p1f3/day/' + FIELD + '/gn/latest/' + FIELD + '_day_' + model + '_' + scenario + '_r1i1p1f3_gn_20150101-20491230.nc'\n",
    "    \n",
    "    cube_ssp585 = iris.load_cube(FILENAME, FIELD) ##this throws an error but I can't see why\n",
    "    \n",
    "    scenario = 'ssp245'\n",
    "    FILENAME = '/badc/cmip6/data/CMIP6/ScenarioMIP/MOHC/' + model + '/' + scenario + '/r1i1p1f3/day/' + FIELD + '/gn/latest/' + FIELD + '_day_' + model + '_' + scenario + '_r1i1p1f3_gn_20150101-20491230.nc'\n",
    "    \n",
    "    cube_ssp245 = iris.load_cube(FILENAME, FIELD)\n",
    "    \n",
    "    scenario = 'ssp126'\n",
    "    FILENAME = '/badc/cmip6/data/CMIP6/ScenarioMIP/MOHC/' + model + '/' + scenario + '/r1i1p1f3/day/' + FIELD + '/gn/latest/' + FIELD + '_day_' + model + '_' + scenario + '_r1i1p1f3_gn_20150101-20491230.nc'\n",
    "    \n",
    "    cube_ssp126 = iris.load_cube(FILENAME, FIELD)\n",
    "    \n",
    "    return cube_ssp585, cube_ssp245, cube_ssp126"
   ]
  },
  {
   "cell_type": "code",
   "execution_count": 20,
   "metadata": {},
   "outputs": [],
   "source": [
    "##Seb's code\n",
    "##generating etccdi values\n",
    "##tasmin.min = TNn, tasmin.max = TNx, tasmin.max > 20'C = TR, tasmax.min = TXn, tasmax.max = TXx\n",
    "def etccdi(tcube):\n",
    "    \n",
    "    ### COMBINING BY MONTH/YEAR\n",
    "    iris.coord_categorisation.add_month(tcube, 'time' , name='month') # add month time coord\n",
    "    iris.coord_categorisation.add_year(tcube, 'time' , name='year') # add year time coord\n",
    "    \n",
    "    ### CREATING ETCCDII VARIABLES ###\n",
    "    TNxK = tcube.aggregated_by(['month', 'year'], iris.analysis.MAX) #MONTHLY MAXIMUM OF MINS (TASMIN/night)\n",
    "    TNx = TNxK - 273.15\n",
    "    \n",
    "    TNnK = tcube.aggregated_by(['month', 'year'], iris.analysis.MIN) #MONTHLY MINIMUM OF MINS (TASMIN/night)\n",
    "    TNn = TNnK - 273.15\n",
    "    \n",
    "    ##Commenting out TR because it is measured in days rather than degC\n",
    "    #TR = tcube.aggregated_by(['month', 'year'], iris.analysis.COUNT, function=lambda values: values > 293.15) #MONTHLY count of values above 293.15K (20degC) (TASMIN/night)\n",
    "    \n",
    "    return TNx, TNn #, TR"
   ]
  },
  {
   "cell_type": "code",
   "execution_count": 21,
   "metadata": {},
   "outputs": [],
   "source": [
    "##plotting function - Lauren's attempt\n",
    "def plot(cube_list):\n",
    "    for i, cube in enumerate(cube_list): ##I have based this off some old code for a line plot might not work for a map?\n",
    "        print(cube.data)\n",
    "        cube_label = np.str(etccdi[i]) \n",
    "        plt.figure()\n",
    "        ax = plt.axes(projection = ccrs.Robinson())\n",
    "        ax.add_feature(cf.COASTLINE)\n",
    "        qplt.contourf(tlast_degC, extend='both', cmap='YlOrRd')\n",
    "        plt.title(model + ' ' + scenario + ' 2015-2049 ' + etccdi)\n",
    "        plt.points(tlast, c=tlast.data)\n",
    "        plt.show()\n",
    "        \n",
    "##plotting function - Seb's attempt\n",
    "def plot_test(cube, ax, fig):\n",
    "    fig = plt.figure()\n",
    "    ax = plt.axes(projection = ccrs.Robinson())\n",
    "    ax.add_feature(cf.COASTLINE)\n",
    "    qplt.contourf(cube, extend='both', cmap='YlOrRd')\n",
    "    return ax"
   ]
  },
  {
   "cell_type": "code",
   "execution_count": null,
   "metadata": {},
   "outputs": [],
   "source": [
    "##Seb's code\n",
    "##Creating subplots of all 3 cubes -  not working properly\n",
    "fig= plt.figure(figsize=(12,8))\n",
    "fig.suptitle('T') # Title\n",
    "ax1 = fig.add_subplot(1,3,1,projection = ccrs.Robinson())\n",
    "plt.axes(projection = ccrs.Robinson())\n",
    "qplt.contourf(TNnC, extend='both', cmap='YlOrRd')\n",
    "#plot_test(TNnC,ax1,fig)\n",
    "#.set_title('') #1st plot title\n",
    "ax2 = fig.add_subplot(1,3,2,projection = ccrs.Robinson())\n",
    "plt.axes(projection = ccrs.Robinson())\n",
    "qplt.contourf(TNxC, extend='both', cmap='YlOrRd')\n",
    "#plot_test(TNxC,ax2,fig)\n",
    "#ax2.set_title('')\n",
    "#ax3=fig.add_subplot(1,3,3, projection = ccrs.Robinson())\n",
    "#plot_test(TR,ax3,fig)\n",
    "#ax3.set_title('')\n",
    "#fig.tight_layout()"
   ]
  },
  {
   "cell_type": "code",
   "execution_count": 23,
   "metadata": {},
   "outputs": [
    {
     "name": "stderr",
     "output_type": "stream",
     "text": [
      "/opt/jaspy/lib/python3.7/site-packages/iris/fileformats/cf.py:798: UserWarning: Missing CF-netCDF measure variable 'areacella', referenced by netCDF variable 'tasmin'\n",
      "  warnings.warn(message % (variable_name, nc_var_name))\n"
     ]
    },
    {
     "ename": "ConstraintMismatchError",
     "evalue": "no cubes found",
     "output_type": "error",
     "traceback": [
      "\u001b[0;31m---------------------------------------------------------------------------\u001b[0m",
      "\u001b[0;31mValueError\u001b[0m                                Traceback (most recent call last)",
      "\u001b[0;32m/opt/jaspy/lib/python3.7/site-packages/iris/__init__.py\u001b[0m in \u001b[0;36mload_cube\u001b[0;34m(uris, constraint, callback)\u001b[0m\n\u001b[1;32m    376\u001b[0m     \u001b[0;32mtry\u001b[0m\u001b[0;34m:\u001b[0m\u001b[0;34m\u001b[0m\u001b[0;34m\u001b[0m\u001b[0m\n\u001b[0;32m--> 377\u001b[0;31m         \u001b[0mcube\u001b[0m \u001b[0;34m=\u001b[0m \u001b[0mcubes\u001b[0m\u001b[0;34m.\u001b[0m\u001b[0mmerge_cube\u001b[0m\u001b[0;34m(\u001b[0m\u001b[0;34m)\u001b[0m\u001b[0;34m\u001b[0m\u001b[0;34m\u001b[0m\u001b[0m\n\u001b[0m\u001b[1;32m    378\u001b[0m     \u001b[0;32mexcept\u001b[0m \u001b[0miris\u001b[0m\u001b[0;34m.\u001b[0m\u001b[0mexceptions\u001b[0m\u001b[0;34m.\u001b[0m\u001b[0mMergeError\u001b[0m \u001b[0;32mas\u001b[0m \u001b[0me\u001b[0m\u001b[0;34m:\u001b[0m\u001b[0;34m\u001b[0m\u001b[0;34m\u001b[0m\u001b[0m\n",
      "\u001b[0;32m/opt/jaspy/lib/python3.7/site-packages/iris/cube.py\u001b[0m in \u001b[0;36mmerge_cube\u001b[0;34m(self)\u001b[0m\n\u001b[1;32m    373\u001b[0m         \u001b[0;32mif\u001b[0m \u001b[0;32mnot\u001b[0m \u001b[0mself\u001b[0m\u001b[0;34m:\u001b[0m\u001b[0;34m\u001b[0m\u001b[0;34m\u001b[0m\u001b[0m\n\u001b[0;32m--> 374\u001b[0;31m             \u001b[0;32mraise\u001b[0m \u001b[0mValueError\u001b[0m\u001b[0;34m(\u001b[0m\u001b[0;34m\"can't merge an empty CubeList\"\u001b[0m\u001b[0;34m)\u001b[0m\u001b[0;34m\u001b[0m\u001b[0;34m\u001b[0m\u001b[0m\n\u001b[0m\u001b[1;32m    375\u001b[0m \u001b[0;34m\u001b[0m\u001b[0m\n",
      "\u001b[0;31mValueError\u001b[0m: can't merge an empty CubeList",
      "\nDuring handling of the above exception, another exception occurred:\n",
      "\u001b[0;31mConstraintMismatchError\u001b[0m                   Traceback (most recent call last)",
      "\u001b[0;32m<ipython-input-23-b26bf6bd325f>\u001b[0m in \u001b[0;36m<module>\u001b[0;34m\u001b[0m\n\u001b[1;32m      4\u001b[0m \u001b[0;34m\u001b[0m\u001b[0m\n\u001b[1;32m      5\u001b[0m \u001b[0;32mfor\u001b[0m \u001b[0mmodel\u001b[0m \u001b[0;32min\u001b[0m \u001b[0mMODELNAMES\u001b[0m\u001b[0;34m:\u001b[0m\u001b[0;34m\u001b[0m\u001b[0;34m\u001b[0m\u001b[0m\n\u001b[0;32m----> 6\u001b[0;31m     \u001b[0mcube_ssp585\u001b[0m\u001b[0;34m,\u001b[0m \u001b[0mcube_ssp245\u001b[0m\u001b[0;34m,\u001b[0m \u001b[0mcube_ssp126\u001b[0m \u001b[0;34m=\u001b[0m \u001b[0mindividual_model\u001b[0m\u001b[0;34m(\u001b[0m\u001b[0mmodel\u001b[0m\u001b[0;34m)\u001b[0m \u001b[0;31m##this runs the first function and produces each of these cubes\u001b[0m\u001b[0;34m\u001b[0m\u001b[0;34m\u001b[0m\u001b[0m\n\u001b[0m\u001b[1;32m      7\u001b[0m     \u001b[0mTNx\u001b[0m\u001b[0;34m,\u001b[0m \u001b[0mTNn\u001b[0m \u001b[0;34m=\u001b[0m \u001b[0mindividual_model\u001b[0m\u001b[0;34m(\u001b[0m\u001b[0mmodel\u001b[0m\u001b[0;34m)\u001b[0m\u001b[0;34m\u001b[0m\u001b[0;34m\u001b[0m\u001b[0m\n",
      "\u001b[0;32m<ipython-input-19-d2490a627b52>\u001b[0m in \u001b[0;36mindividual_model\u001b[0;34m(model)\u001b[0m\n\u001b[1;32m      4\u001b[0m     \u001b[0mFILENAME\u001b[0m \u001b[0;34m=\u001b[0m \u001b[0;34m'/badc/cmip6/data/CMIP6/ScenarioMIP/MOHC/'\u001b[0m \u001b[0;34m+\u001b[0m \u001b[0mmodel\u001b[0m \u001b[0;34m+\u001b[0m \u001b[0;34m'/'\u001b[0m \u001b[0;34m+\u001b[0m \u001b[0mscenario\u001b[0m \u001b[0;34m+\u001b[0m \u001b[0;34m'/r1i1p1f3/day/'\u001b[0m \u001b[0;34m+\u001b[0m \u001b[0mFIELD\u001b[0m \u001b[0;34m+\u001b[0m \u001b[0;34m'/gn/latest/'\u001b[0m \u001b[0;34m+\u001b[0m \u001b[0mFIELD\u001b[0m \u001b[0;34m+\u001b[0m \u001b[0;34m'_day_'\u001b[0m \u001b[0;34m+\u001b[0m \u001b[0mmodel\u001b[0m \u001b[0;34m+\u001b[0m \u001b[0;34m'_'\u001b[0m \u001b[0;34m+\u001b[0m \u001b[0mscenario\u001b[0m \u001b[0;34m+\u001b[0m \u001b[0;34m'_r1i1p1f3_gn_20150101-20491230.nc'\u001b[0m\u001b[0;34m\u001b[0m\u001b[0;34m\u001b[0m\u001b[0m\n\u001b[1;32m      5\u001b[0m \u001b[0;34m\u001b[0m\u001b[0m\n\u001b[0;32m----> 6\u001b[0;31m     \u001b[0mcube_ssp585\u001b[0m \u001b[0;34m=\u001b[0m \u001b[0miris\u001b[0m\u001b[0;34m.\u001b[0m\u001b[0mload_cube\u001b[0m\u001b[0;34m(\u001b[0m\u001b[0mFILENAME\u001b[0m\u001b[0;34m,\u001b[0m \u001b[0mFIELD\u001b[0m\u001b[0;34m)\u001b[0m\u001b[0;34m\u001b[0m\u001b[0;34m\u001b[0m\u001b[0m\n\u001b[0m\u001b[1;32m      7\u001b[0m \u001b[0;34m\u001b[0m\u001b[0m\n\u001b[1;32m      8\u001b[0m     \u001b[0mscenario\u001b[0m \u001b[0;34m=\u001b[0m \u001b[0;34m'ssp245'\u001b[0m\u001b[0;34m\u001b[0m\u001b[0;34m\u001b[0m\u001b[0m\n",
      "\u001b[0;32m/opt/jaspy/lib/python3.7/site-packages/iris/__init__.py\u001b[0m in \u001b[0;36mload_cube\u001b[0;34m(uris, constraint, callback)\u001b[0m\n\u001b[1;32m    379\u001b[0m         \u001b[0;32mraise\u001b[0m \u001b[0miris\u001b[0m\u001b[0;34m.\u001b[0m\u001b[0mexceptions\u001b[0m\u001b[0;34m.\u001b[0m\u001b[0mConstraintMismatchError\u001b[0m\u001b[0;34m(\u001b[0m\u001b[0mstr\u001b[0m\u001b[0;34m(\u001b[0m\u001b[0me\u001b[0m\u001b[0;34m)\u001b[0m\u001b[0;34m)\u001b[0m\u001b[0;34m\u001b[0m\u001b[0;34m\u001b[0m\u001b[0m\n\u001b[1;32m    380\u001b[0m     \u001b[0;32mexcept\u001b[0m \u001b[0mValueError\u001b[0m\u001b[0;34m:\u001b[0m\u001b[0;34m\u001b[0m\u001b[0;34m\u001b[0m\u001b[0m\n\u001b[0;32m--> 381\u001b[0;31m         \u001b[0;32mraise\u001b[0m \u001b[0miris\u001b[0m\u001b[0;34m.\u001b[0m\u001b[0mexceptions\u001b[0m\u001b[0;34m.\u001b[0m\u001b[0mConstraintMismatchError\u001b[0m\u001b[0;34m(\u001b[0m\u001b[0;34m'no cubes found'\u001b[0m\u001b[0;34m)\u001b[0m\u001b[0;34m\u001b[0m\u001b[0;34m\u001b[0m\u001b[0m\n\u001b[0m\u001b[1;32m    382\u001b[0m \u001b[0;34m\u001b[0m\u001b[0m\n\u001b[1;32m    383\u001b[0m     \u001b[0;32mreturn\u001b[0m \u001b[0mcube\u001b[0m\u001b[0;34m\u001b[0m\u001b[0;34m\u001b[0m\u001b[0m\n",
      "\u001b[0;31mConstraintMismatchError\u001b[0m: no cubes found"
     ]
    }
   ],
   "source": [
    "##main program (probably not finished)\n",
    "MODELNAMES = ['HadGEM3-GC31-LL']\n",
    "FIELD = 'tasmin'\n",
    "\n",
    "for model in MODELNAMES:\n",
    "    cube_ssp585, cube_ssp245, cube_ssp126 = individual_model(model) ##this runs the first function and produces each of these cubes\n",
    "    TNx, TNn = individual_model(model)"
   ]
  }
 ],
 "metadata": {
  "kernelspec": {
   "display_name": "Python 3 + Jaspy",
   "language": "python",
   "name": "jaspy"
  },
  "language_info": {
   "codemirror_mode": {
    "name": "ipython",
    "version": 3
   },
   "file_extension": ".py",
   "mimetype": "text/x-python",
   "name": "python",
   "nbconvert_exporter": "python",
   "pygments_lexer": "ipython3",
   "version": "3.7.1"
  }
 },
 "nbformat": 4,
 "nbformat_minor": 4
}

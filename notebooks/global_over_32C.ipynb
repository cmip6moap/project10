{
 "cells": [
  {
   "cell_type": "markdown",
   "metadata": {},
   "source": [
    "# UTCI above 32°C threshold\n",
    "\n",
    "This notebook aims to plot gridded 1x1 global maps of the UTCI above 32°C historical (1985-2015) and projected (2015-2100) UTCI with functionality to extract by AR5 region using the library regionmask"
   ]
  },
  {
   "cell_type": "code",
   "execution_count": 12,
   "metadata": {},
   "outputs": [],
   "source": [
    "from itertools import chain\n",
    "from glob import glob\n",
    "import numpy as np\n",
    "import xarray as xr"
   ]
  },
  {
   "cell_type": "code",
   "execution_count": 13,
   "metadata": {},
   "outputs": [],
   "source": [
    "# Plotting libraries:\n",
    "import matplotlib\n",
    "import matplotlib.pyplot as plt; plt.close('all')\n",
    "import matplotlib.cm as cm\n",
    "from matplotlib import rcParams\n",
    "from matplotlib import colors as mcol\n",
    "from matplotlib.cm import ScalarMappable\n",
    "from mpl_toolkits.axes_grid1 import make_axes_locatable\n",
    "from pandas.plotting import register_matplotlib_converters\n",
    "register_matplotlib_converters()\n",
    "import matplotlib.ticker as mticker\n",
    "\n",
    "# Mapping libraries:\n",
    "import cartopy\n",
    "import cartopy.crs as ccrs\n",
    "from cartopy.io import shapereader\n",
    "import cartopy.feature as cf\n",
    "from cartopy.util import add_cyclic_point\n",
    "from cartopy.mpl.ticker import LongitudeFormatter, LatitudeFormatter\n",
    "from cartopy.mpl.gridliner import LONGITUDE_FORMATTER, LATITUDE_FORMATTER"
   ]
  },
  {
   "cell_type": "code",
   "execution_count": 19,
   "metadata": {},
   "outputs": [],
   "source": [
    "%matplotlib inline"
   ]
  },
  {
   "cell_type": "markdown",
   "metadata": {},
   "source": [
    "## Datasets\n",
    "\n",
    "3 sources x 3 SSPs:\n",
    "\n",
    "```\n",
    "/gws/pw/j05/cop26_hackathons/bristol/project10/\n",
    "\n",
    "~/utci_projections_1deg/BCC-CSM2-MR/historical/r1i1p1f1 # (1985-2015)\n",
    "~/utci_projections_1deg/BCC-CSM2-MR/ssp126/r1i1p1f1 # (2015-2101)\n",
    "~/utci_projections_1deg/BCC-CSM2-MR/ssp245/r1i1p1f1 # (2015-2101)\n",
    "~/utci_projections_1deg/BCC-CSM2-MR/ssp585/r1i1p1f1 # (2015-2101)\n",
    "~/utci_projections_1deg/CMCC-ESM2/historical/r1i1p1f1/ # (1985-2015)\n",
    "~/utci_projections_1deg/CMCC-ESM2/ssp126/r1i1p1f1 # (2015-2101)\n",
    "~/utci_projections_1deg/CMCC-ESM2/ssp245/r1i1p1f1 # (2015-2101)\n",
    "~/utci_projections_1deg/CMCC-ESM2/ssp585/r1i1p1f1 # (2015-2101)\n",
    "~/utci_projections_1deg/HadGEM3-GC31-LL/historical/r1i1p1f3/ # (1985-2015)\n",
    "~/utci_projections_1deg/HadGEM3-GC31-LL/ssp126/r1i1p1f3 # (2015-2101)\n",
    "~/utci_projections_1deg/HadGEM3-GC31-LL/ssp245/r1i1p1f3 # (2015-2101)\n",
    "~/utci_projections_1deg/HadGEM3-GC31-LL/ssp585/r1i1p1f3 # (2015-2101)\n",
    "```"
   ]
  },
  {
   "cell_type": "markdown",
   "metadata": {},
   "source": [
    "## Settings"
   ]
  },
  {
   "cell_type": "code",
   "execution_count": 21,
   "metadata": {},
   "outputs": [],
   "source": [
    "cmap = 'gist_heat_r'\n",
    "fontsize = 14\n",
    "cbstr = r'UTCI [$^{\\circ}$C]'\n",
    "projection = 'robinson'\n",
    "if projection == 'platecarree': p = ccrs.PlateCarree(central_longitude=0); threshold = 0\n",
    "if projection == 'mollweide': p = ccrs.Mollweide(central_longitude=0); threshold = 1e6\n",
    "if projection == 'robinson': p = ccrs.Robinson(central_longitude=0); threshold = 0\n",
    "if projection == 'equalearth': p = ccrs.EqualEarth(central_longitude=0); threshold = 0\n",
    "if projection == 'geostationary': p = ccrs.Geostationary(central_longitude=0); threshold = 0\n",
    "if projection == 'goodehomolosine': p = ccrs.InterruptedGoodeHomolosine(central_longitude=0); threshold = 0\n",
    "if projection == 'europp': p = ccrs.EuroPP(); threshold = 0\n",
    "if projection == 'northpolarstereo': p = ccrs.NorthPolarStereo(); threshold = 0\n",
    "if projection == 'southpolarstereo': p = ccrs.SouthPolarStereo(); threshold = 0\n",
    "if projection == 'lambertconformal': p = ccrs.LambertConformal(central_longitude=0); threshold = 0"
   ]
  },
  {
   "cell_type": "markdown",
   "metadata": {},
   "source": [
    "## Land-Sea Mask\n",
    "\n",
    "I regridded a land-sea mask I have for 20CRv3 to 1x1 and then reset the longitude dimension to match the CMIP6 UTCI dataset format. I use CDO to reset the longitude with:\n",
    "```\n",
    "cdo sellonlatbox,-180,180,-90,90 landseamask_1x1.nc landseamask.nc\n",
    "```\n",
    "Q. Does anyone need UTCI over sea?"
   ]
  },
  {
   "cell_type": "code",
   "execution_count": 27,
   "metadata": {},
   "outputs": [],
   "source": [
    "project_directory = '/gws/pw/j05/cop26_hackathons/bristol/project10/'"
   ]
  },
  {
   "cell_type": "code",
   "execution_count": null,
   "metadata": {},
   "outputs": [],
   "source": [
    "landseamask = xr.load_dataset(project_directory + 'landseamask.nc')"
   ]
  },
  {
   "cell_type": "markdown",
   "metadata": {},
   "source": [
    "## Lazy load data"
   ]
  },
  {
   "cell_type": "code",
   "execution_count": 30,
   "metadata": {},
   "outputs": [],
   "source": [
    "data_directory = project_directory + 'utci_projections_1deg/BCC-CSM2-MR/historical/r1i1p1f1/'\n",
    "filelist = data_directory + 'utci_3hr*.nc'"
   ]
  },
  {
   "cell_type": "code",
   "execution_count": null,
   "metadata": {},
   "outputs": [],
   "source": [
    "paths_to_load = [ glob(filelist) for variable in ['utci'] ]\n",
    "dataset = xr.open_mfdataset(paths=chain(*paths_to_load))"
   ]
  },
  {
   "cell_type": "markdown",
   "metadata": {},
   "source": [
    "## Convert UTCI to degrees Centigrade, set the 32 degree threshold, apply land mask and average over time dimension"
   ]
  },
  {
   "cell_type": "code",
   "execution_count": 32,
   "metadata": {
    "scrolled": true
   },
   "outputs": [
    {
     "ename": "NameError",
     "evalue": "name 'dataset' is not defined",
     "output_type": "error",
     "traceback": [
      "\u001b[0;31m---------------------------------------------------------------------------\u001b[0m",
      "\u001b[0;31mNameError\u001b[0m                                 Traceback (most recent call last)",
      "\u001b[0;32m<ipython-input-32-9c2c722e1ec9>\u001b[0m in \u001b[0;36m<module>\u001b[0;34m\u001b[0m\n\u001b[0;32m----> 1\u001b[0;31m \u001b[0mutci\u001b[0m \u001b[0;34m=\u001b[0m \u001b[0mdataset\u001b[0m\u001b[0;34m.\u001b[0m\u001b[0mutci\u001b[0m\u001b[0;34m[\u001b[0m\u001b[0;34m:\u001b[0m\u001b[0;34m,\u001b[0m\u001b[0;34m:\u001b[0m\u001b[0;34m,\u001b[0m\u001b[0;34m:\u001b[0m\u001b[0;34m]\u001b[0m\u001b[0;34m-\u001b[0m\u001b[0;36m273.15\u001b[0m\u001b[0;34m\u001b[0m\u001b[0;34m\u001b[0m\u001b[0m\n\u001b[0m\u001b[1;32m      2\u001b[0m \u001b[0mthreshold\u001b[0m \u001b[0;34m=\u001b[0m \u001b[0;36m32.0\u001b[0m\u001b[0;34m\u001b[0m\u001b[0;34m\u001b[0m\u001b[0m\n\u001b[1;32m      3\u001b[0m \u001b[0mutci_over_threshold\u001b[0m \u001b[0;34m=\u001b[0m \u001b[0mxr\u001b[0m\u001b[0;34m.\u001b[0m\u001b[0mwhere\u001b[0m\u001b[0;34m(\u001b[0m\u001b[0mutci\u001b[0m\u001b[0;34m>\u001b[0m\u001b[0mthreshold\u001b[0m\u001b[0;34m,\u001b[0m \u001b[0mutci\u001b[0m\u001b[0;34m,\u001b[0m \u001b[0mnp\u001b[0m\u001b[0;34m.\u001b[0m\u001b[0mnan\u001b[0m\u001b[0;34m)\u001b[0m\u001b[0;34m\u001b[0m\u001b[0;34m\u001b[0m\u001b[0m\n\u001b[1;32m      4\u001b[0m \u001b[0mutci_over_threshold_mean\u001b[0m \u001b[0;34m=\u001b[0m \u001b[0mutci_over_threshold\u001b[0m\u001b[0;34m.\u001b[0m\u001b[0mmean\u001b[0m\u001b[0;34m(\u001b[0m\u001b[0;34m'time'\u001b[0m\u001b[0;34m)\u001b[0m\u001b[0;34m.\u001b[0m\u001b[0mwhere\u001b[0m\u001b[0;34m(\u001b[0m\u001b[0mlandseamask\u001b[0m\u001b[0;34m.\u001b[0m\u001b[0mLSMASK\u001b[0m\u001b[0;34m)\u001b[0m\u001b[0;34m\u001b[0m\u001b[0;34m\u001b[0m\u001b[0m\n",
      "\u001b[0;31mNameError\u001b[0m: name 'dataset' is not defined"
     ]
    }
   ],
   "source": [
    "utci = dataset.utci[:,:,:]-273.15\n",
    "threshold = 32.0\n",
    "utci_over_threshold = xr.where(utci>threshold, utci, np.nan)\n",
    "utci_over_threshold_mean = utci_over_threshold.mean('time').where(landseamask.LSMASK)"
   ]
  },
  {
   "cell_type": "markdown",
   "metadata": {},
   "source": [
    "## Xarray plotting function with 5x5 grid overlay"
   ]
  },
  {
   "cell_type": "code",
   "execution_count": 26,
   "metadata": {},
   "outputs": [],
   "source": [
    "def make_plot(axi,v,vmin,vmax,cbstr,titlestr,cmap,fontsize):\n",
    "\n",
    "    g = v.plot(ax=axi, transform=ccrs.PlateCarree(), vmin=vmin, vmax=vmax, cmap=cmap, cbar_kwargs={'orientation':'vertical','extend':'both','shrink':0.7, 'pad':0.1})         \n",
    "    cb = g.colorbar; cb.ax.tick_params(labelsize=fontsize); cb.set_label(label=cbstr, size=fontsize); cb.remove()\n",
    "    axi.set_global()        \n",
    "    axi.coastlines(color='grey')\n",
    "    axi.set_title(titlestr, fontsize=fontsize)    \n",
    "    gl = axi.gridlines(crs=ccrs.PlateCarree(), draw_labels=False, linewidth=1, color='black', alpha=0.2, linestyle='-')\n",
    "    gl.top_labels = False; gl.bottom_labels = False; gl.left_ylabels = False; gl.right_ylabels = False\n",
    "    gl.xlines = True; gl.ylines = True\n",
    "    gl.xlocator = mticker.FixedLocator(np.linspace(-180,180,73)) # every 5 degrees\n",
    "    gl.ylocator = mticker.FixedLocator(np.linspace(-90,90,37))   # every 5 degrees\n",
    "    gl.xformatter = LONGITUDE_FORMATTER; gl.yformatter = LATITUDE_FORMATTER\n",
    "\n",
    "    return g"
   ]
  },
  {
   "cell_type": "markdown",
   "metadata": {},
   "source": [
    "## Plot the map"
   ]
  },
  {
   "cell_type": "code",
   "execution_count": null,
   "metadata": {},
   "outputs": [],
   "source": [
    "plotfile = 'utci_over_' + str(threshold) + '.png'\n",
    "titlestr = 'BCC-CSM2-MR_historical: 2014-2015 mean UTCI > ' + str(threshold) + r'$^{\\circ}C$'    \n",
    "\n",
    "fig, axs = plt.subplots(1,1, figsize=(15,10), subplot_kw=dict(projection=p))\n",
    "vmin = np.nanmin(utci_over_threshold_mean); vmax = np.nanmax(utci_over_threshold_mean)\n",
    "g = make_plot(axs, utci_over_threshold_mean, vmin, vmax, cbstr, titlestr, cmap, fontsize)\n",
    "axs.add_feature(cartopy.feature.OCEAN, zorder=100, alpha=0.2, edgecolor='k')\n",
    "#cb = fig.colorbar(g, ax=axs.ravel().tolist(), shrink=0.6, extend='both')\n",
    "cb = fig.colorbar(g, ax=axs, shrink=0.6, extend='both')\n",
    "cb.set_label(cbstr, rotation=90, labelpad=20, fontsize=fontsize)\n",
    "cb.ax.tick_params(labelsize=fontsize)\n",
    "#cb.set_ticks(np.linspace(vmin,vmax,17))\n",
    "plt.savefig(plotfile, dpi=300)\n",
    "plt.close('all')"
   ]
  },
  {
   "cell_type": "markdown",
   "metadata": {},
   "source": [
    "## Next step planned\n",
    "\n",
    "Roll out to model projections and think how to integrate regionmask to help with extraction of regionally-averaged timeseries"
   ]
  }
 ],
 "metadata": {
  "kernelspec": {
   "display_name": "Python 3",
   "language": "python",
   "name": "python3"
  },
  "language_info": {
   "codemirror_mode": {
    "name": "ipython",
    "version": 3
   },
   "file_extension": ".py",
   "mimetype": "text/x-python",
   "name": "python",
   "nbconvert_exporter": "python",
   "pygments_lexer": "ipython3",
   "version": "3.8.8"
  }
 },
 "nbformat": 4,
 "nbformat_minor": 2
}

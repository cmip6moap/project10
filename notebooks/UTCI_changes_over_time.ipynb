{
 "cells": [
  {
   "cell_type": "markdown",
   "metadata": {},
   "source": [
    "# UTCI changes over time"
   ]
  },
  {
   "cell_type": "code",
   "execution_count": 31,
   "metadata": {},
   "outputs": [],
   "source": [
    "# Import needed packages\n",
    "import netCDF4 as nc\n",
    "import matplotlib.pyplot as plt\n",
    "import xarray\n",
    "import os"
   ]
  },
  {
   "cell_type": "code",
   "execution_count": 39,
   "metadata": {},
   "outputs": [
    {
     "name": "stdout",
     "output_type": "stream",
     "text": [
      "['historical', 'ssp126', 'ssp245', 'ssp585']\n"
     ]
    }
   ],
   "source": [
    "# Import the data\n",
    "folder = \"/gws/pw/j05/cop26_hackathons/bristol/project10/utci_projections_1deg/BCC-CSM2-MR/\"\n",
    "subfolders = os.listdir(folder)\n",
    "print(subfolders)\n",
    "def convert_days(x):\n",
    "    return x / 365 + 2015"
   ]
  },
  {
   "cell_type": "code",
   "execution_count": 52,
   "metadata": {},
   "outputs": [
    {
     "name": "stdout",
     "output_type": "stream",
     "text": [
      "['r1i1p1f1']\n",
      "['utci_3hr_BCC-CSM2-MR_ssp126_r1i1p1f1_gn_201501010300-201601010000.nc', 'utci_3hr_BCC-CSM2-MR_ssp126_r1i1p1f1_gn_205801010300-205901010000.nc', 'utci_3hr_BCC-CSM2-MR_ssp126_r1i1p1f1_gn_201601010300-201701010000.nc', 'utci_3hr_BCC-CSM2-MR_ssp126_r1i1p1f1_gn_205901010300-206001010000.nc', 'utci_3hr_BCC-CSM2-MR_ssp126_r1i1p1f1_gn_201701010300-201801010000.nc', 'utci_3hr_BCC-CSM2-MR_ssp126_r1i1p1f1_gn_201801010300-201901010000.nc', 'utci_3hr_BCC-CSM2-MR_ssp126_r1i1p1f1_gn_206001010300-206101010000.nc', 'utci_3hr_BCC-CSM2-MR_ssp126_r1i1p1f1_gn_201901010300-202001010000.nc', 'utci_3hr_BCC-CSM2-MR_ssp126_r1i1p1f1_gn_206101010300-206201010000.nc', 'utci_3hr_BCC-CSM2-MR_ssp126_r1i1p1f1_gn_202001010300-202101010000.nc', 'utci_3hr_BCC-CSM2-MR_ssp126_r1i1p1f1_gn_206201010300-206301010000.nc', 'utci_3hr_BCC-CSM2-MR_ssp126_r1i1p1f1_gn_202101010300-202201010000.nc', 'utci_3hr_BCC-CSM2-MR_ssp126_r1i1p1f1_gn_206301010300-206401010000.nc', 'utci_3hr_BCC-CSM2-MR_ssp126_r1i1p1f1_gn_202201010300-202301010000.nc', 'utci_3hr_BCC-CSM2-MR_ssp126_r1i1p1f1_gn_206401010300-206501010000.nc', 'utci_3hr_BCC-CSM2-MR_ssp126_r1i1p1f1_gn_202301010300-202401010000.nc', 'utci_3hr_BCC-CSM2-MR_ssp126_r1i1p1f1_gn_202401010300-202501010000.nc', 'utci_3hr_BCC-CSM2-MR_ssp126_r1i1p1f1_gn_206501010300-206601010000.nc', 'utci_3hr_BCC-CSM2-MR_ssp126_r1i1p1f1_gn_202501010300-202601010000.nc', 'utci_3hr_BCC-CSM2-MR_ssp126_r1i1p1f1_gn_206601010300-206701010000.nc', 'utci_3hr_BCC-CSM2-MR_ssp126_r1i1p1f1_gn_202601010300-202701010000.nc', 'utci_3hr_BCC-CSM2-MR_ssp126_r1i1p1f1_gn_206701010300-206801010000.nc', 'utci_3hr_BCC-CSM2-MR_ssp126_r1i1p1f1_gn_202701010300-202801010000.nc', 'utci_3hr_BCC-CSM2-MR_ssp126_r1i1p1f1_gn_202801010300-202901010000.nc', 'utci_3hr_BCC-CSM2-MR_ssp126_r1i1p1f1_gn_206801010300-206901010000.nc', 'utci_3hr_BCC-CSM2-MR_ssp126_r1i1p1f1_gn_202901010300-203001010000.nc', 'utci_3hr_BCC-CSM2-MR_ssp126_r1i1p1f1_gn_206901010300-207001010000.nc', 'utci_3hr_BCC-CSM2-MR_ssp126_r1i1p1f1_gn_203001010300-203101010000.nc', 'utci_3hr_BCC-CSM2-MR_ssp126_r1i1p1f1_gn_207001010300-207101010000.nc', 'utci_3hr_BCC-CSM2-MR_ssp126_r1i1p1f1_gn_203101010300-203201010000.nc', 'utci_3hr_BCC-CSM2-MR_ssp126_r1i1p1f1_gn_203201010300-203301010000.nc', 'utci_3hr_BCC-CSM2-MR_ssp126_r1i1p1f1_gn_207101010300-207201010000.nc', 'utci_3hr_BCC-CSM2-MR_ssp126_r1i1p1f1_gn_203301010300-203401010000.nc', 'utci_3hr_BCC-CSM2-MR_ssp126_r1i1p1f1_gn_207201010300-207301010000.nc', 'utci_3hr_BCC-CSM2-MR_ssp126_r1i1p1f1_gn_207301010300-207401010000.nc', 'utci_3hr_BCC-CSM2-MR_ssp126_r1i1p1f1_gn_203401010300-203501010000.nc', 'utci_3hr_BCC-CSM2-MR_ssp126_r1i1p1f1_gn_207401010300-207501010000.nc', 'utci_3hr_BCC-CSM2-MR_ssp126_r1i1p1f1_gn_203501010300-203601010000.nc', 'utci_3hr_BCC-CSM2-MR_ssp126_r1i1p1f1_gn_207501010300-207601010000.nc', 'utci_3hr_BCC-CSM2-MR_ssp126_r1i1p1f1_gn_203601010300-203701010000.nc', 'utci_3hr_BCC-CSM2-MR_ssp126_r1i1p1f1_gn_207601010300-207701010000.nc', 'utci_3hr_BCC-CSM2-MR_ssp126_r1i1p1f1_gn_203701010300-203801010000.nc', 'utci_3hr_BCC-CSM2-MR_ssp126_r1i1p1f1_gn_207701010300-207801010000.nc', 'utci_3hr_BCC-CSM2-MR_ssp126_r1i1p1f1_gn_203801010300-203901010000.nc', 'utci_3hr_BCC-CSM2-MR_ssp126_r1i1p1f1_gn_207801010300-207901010000.nc', 'utci_3hr_BCC-CSM2-MR_ssp126_r1i1p1f1_gn_203901010300-204001010000.nc', 'utci_3hr_BCC-CSM2-MR_ssp126_r1i1p1f1_gn_207901010300-208001010000.nc', 'utci_3hr_BCC-CSM2-MR_ssp126_r1i1p1f1_gn_204001010300-204101010000.nc', 'utci_3hr_BCC-CSM2-MR_ssp126_r1i1p1f1_gn_208001010300-208101010000.nc', 'utci_3hr_BCC-CSM2-MR_ssp126_r1i1p1f1_gn_204101010300-204201010000.nc', 'utci_3hr_BCC-CSM2-MR_ssp126_r1i1p1f1_gn_208101010300-208201010000.nc', 'utci_3hr_BCC-CSM2-MR_ssp126_r1i1p1f1_gn_204201010300-204301010000.nc', 'utci_3hr_BCC-CSM2-MR_ssp126_r1i1p1f1_gn_208201010300-208301010000.nc', 'utci_3hr_BCC-CSM2-MR_ssp126_r1i1p1f1_gn_204301010300-204401010000.nc', 'utci_3hr_BCC-CSM2-MR_ssp126_r1i1p1f1_gn_208301010300-208401010000.nc', 'utci_3hr_BCC-CSM2-MR_ssp126_r1i1p1f1_gn_204401010300-204501010000.nc', 'utci_3hr_BCC-CSM2-MR_ssp126_r1i1p1f1_gn_208401010300-208501010000.nc', 'utci_3hr_BCC-CSM2-MR_ssp126_r1i1p1f1_gn_204501010300-204601010000.nc', 'utci_3hr_BCC-CSM2-MR_ssp126_r1i1p1f1_gn_208501010300-208601010000.nc', 'utci_3hr_BCC-CSM2-MR_ssp126_r1i1p1f1_gn_204601010300-204701010000.nc', 'utci_3hr_BCC-CSM2-MR_ssp126_r1i1p1f1_gn_208601010300-208701010000.nc', 'utci_3hr_BCC-CSM2-MR_ssp126_r1i1p1f1_gn_204701010300-204801010000.nc', 'utci_3hr_BCC-CSM2-MR_ssp126_r1i1p1f1_gn_208701010300-208801010000.nc', 'utci_3hr_BCC-CSM2-MR_ssp126_r1i1p1f1_gn_204801010300-204901010000.nc', 'utci_3hr_BCC-CSM2-MR_ssp126_r1i1p1f1_gn_208801010300-208901010000.nc', 'utci_3hr_BCC-CSM2-MR_ssp126_r1i1p1f1_gn_204901010300-205001010000.nc', 'utci_3hr_BCC-CSM2-MR_ssp126_r1i1p1f1_gn_208901010300-209001010000.nc', 'utci_3hr_BCC-CSM2-MR_ssp126_r1i1p1f1_gn_205001010300-205101010000.nc', 'utci_3hr_BCC-CSM2-MR_ssp126_r1i1p1f1_gn_209001010300-209101010000.nc', 'utci_3hr_BCC-CSM2-MR_ssp126_r1i1p1f1_gn_205101010300-205201010000.nc', 'utci_3hr_BCC-CSM2-MR_ssp126_r1i1p1f1_gn_205201010300-205301010000.nc', 'utci_3hr_BCC-CSM2-MR_ssp126_r1i1p1f1_gn_209101010300-209201010000.nc', 'utci_3hr_BCC-CSM2-MR_ssp126_r1i1p1f1_gn_205301010300-205401010000.nc', 'utci_3hr_BCC-CSM2-MR_ssp126_r1i1p1f1_gn_209201010300-209301010000.nc', 'utci_3hr_BCC-CSM2-MR_ssp126_r1i1p1f1_gn_205401010300-205501010000.nc', 'utci_3hr_BCC-CSM2-MR_ssp126_r1i1p1f1_gn_209301010300-209401010000.nc', 'utci_3hr_BCC-CSM2-MR_ssp126_r1i1p1f1_gn_205501010300-205601010000.nc', 'utci_3hr_BCC-CSM2-MR_ssp126_r1i1p1f1_gn_209401010300-209501010000.nc', 'utci_3hr_BCC-CSM2-MR_ssp126_r1i1p1f1_gn_205601010300-205701010000.nc', 'utci_3hr_BCC-CSM2-MR_ssp126_r1i1p1f1_gn_209501010300-209601010000.nc', 'utci_3hr_BCC-CSM2-MR_ssp126_r1i1p1f1_gn_205701010300-205801010000.nc', 'utci_3hr_BCC-CSM2-MR_ssp126_r1i1p1f1_gn_209601010300-209701010000.nc', 'utci_3hr_BCC-CSM2-MR_ssp126_r1i1p1f1_gn_209701010300-209801010000.nc', 'utci_3hr_BCC-CSM2-MR_ssp126_r1i1p1f1_gn_209801010300-209901010000.nc', 'utci_3hr_BCC-CSM2-MR_ssp126_r1i1p1f1_gn_209901010300-210001010000.nc', 'utci_3hr_BCC-CSM2-MR_ssp126_r1i1p1f1_gn_210001010300-210101010000.nc']\n"
     ]
    },
    {
     "ename": "ValueError",
     "evalue": "MFNetCDF4 only works with NETCDF3_* and NETCDF4_CLASSIC formatted files, not NETCDF4",
     "output_type": "error",
     "traceback": [
      "\u001b[0;31m---------------------------------------------------------------------------\u001b[0m",
      "\u001b[0;31mValueError\u001b[0m                                Traceback (most recent call last)",
      "\u001b[0;32m<ipython-input-52-7936b68e046e>\u001b[0m in \u001b[0;36m<module>\u001b[0;34m\u001b[0m\n\u001b[1;32m      5\u001b[0m         \u001b[0mfiles\u001b[0m \u001b[0;34m=\u001b[0m \u001b[0mos\u001b[0m\u001b[0;34m.\u001b[0m\u001b[0mlistdir\u001b[0m\u001b[0;34m(\u001b[0m\u001b[0mos\u001b[0m\u001b[0;34m.\u001b[0m\u001b[0mpath\u001b[0m\u001b[0;34m.\u001b[0m\u001b[0mjoin\u001b[0m\u001b[0;34m(\u001b[0m\u001b[0mfolder\u001b[0m\u001b[0;34m,\u001b[0m \u001b[0msubfolder\u001b[0m\u001b[0;34m,\u001b[0m \u001b[0mssfolder\u001b[0m\u001b[0;34m)\u001b[0m\u001b[0;34m)\u001b[0m\u001b[0;34m\u001b[0m\u001b[0;34m\u001b[0m\u001b[0m\n\u001b[1;32m      6\u001b[0m         \u001b[0mprint\u001b[0m\u001b[0;34m(\u001b[0m\u001b[0mfiles\u001b[0m\u001b[0;34m)\u001b[0m\u001b[0;34m\u001b[0m\u001b[0;34m\u001b[0m\u001b[0m\n\u001b[0;32m----> 7\u001b[0;31m         \u001b[0mdata\u001b[0m \u001b[0;34m=\u001b[0m \u001b[0mnc\u001b[0m\u001b[0;34m.\u001b[0m\u001b[0mMFDataset\u001b[0m\u001b[0;34m(\u001b[0m\u001b[0mos\u001b[0m\u001b[0;34m.\u001b[0m\u001b[0mpath\u001b[0m\u001b[0;34m.\u001b[0m\u001b[0mjoin\u001b[0m\u001b[0;34m(\u001b[0m\u001b[0mfolder\u001b[0m\u001b[0;34m,\u001b[0m \u001b[0msubfolder\u001b[0m\u001b[0;34m,\u001b[0m \u001b[0mssfolder\u001b[0m\u001b[0;34m)\u001b[0m \u001b[0;34m+\u001b[0m \u001b[0;34m\"/*.nc\"\u001b[0m\u001b[0;34m,\u001b[0m \u001b[0maggdim\u001b[0m\u001b[0;34m=\u001b[0m\u001b[0;34m\"time\"\u001b[0m\u001b[0;34m)\u001b[0m\u001b[0;34m\u001b[0m\u001b[0;34m\u001b[0m\u001b[0m\n\u001b[0m",
      "\u001b[0;32msrc/netCDF4/_netCDF4.pyx\u001b[0m in \u001b[0;36mnetCDF4._netCDF4.MFDataset.__init__\u001b[0;34m()\u001b[0m\n",
      "\u001b[0;31mValueError\u001b[0m: MFNetCDF4 only works with NETCDF3_* and NETCDF4_CLASSIC formatted files, not NETCDF4"
     ]
    }
   ],
   "source": [
    "for subfolder in subfolders[1:2]:\n",
    "    ssfolders = os.listdir(os.path.join(folder, subfolder))\n",
    "    print(ssfolders)\n",
    "    for ssfolder in ssfolders[:1]:\n",
    "        files = os.listdir(os.path.join(folder, subfolder, ssfolder))\n",
    "        print(files)\n",
    "        data = nc.MFDataset(os.path.join(folder, subfolder, ssfolder) + \"/*.nc\", aggdim=\"time\")"
   ]
  },
  {
   "cell_type": "code",
   "execution_count": null,
   "metadata": {},
   "outputs": [],
   "source": [
    "plt.plot(convert_days(data.variables[\"time\"][:]), data.variables[\"utci\"][:, 1, 1])"
   ]
  },
  {
   "cell_type": "code",
   "execution_count": 37,
   "metadata": {},
   "outputs": [
    {
     "data": {
      "text/plain": [
       "<class 'netCDF4._netCDF4.Variable'>\n",
       "float64 time(time)\n",
       "    axis: T\n",
       "    bounds: time_bnds\n",
       "    units: days since 2015-01-01 00:00:00\n",
       "    standard_name: time\n",
       "    long_name: time\n",
       "    calendar: 365_day\n",
       "unlimited dimensions: \n",
       "current shape = (2920,)\n",
       "filling on, default _FillValue of 9.969209968386869e+36 used"
      ]
     },
     "execution_count": 37,
     "metadata": {},
     "output_type": "execute_result"
    }
   ],
   "source": [
    "data.variables[\"time\"]"
   ]
  }
 ],
 "metadata": {
  "kernelspec": {
   "display_name": "cmip6",
   "language": "python",
   "name": "cmip6"
  },
  "language_info": {
   "codemirror_mode": {
    "name": "ipython",
    "version": 3
   },
   "file_extension": ".py",
   "mimetype": "text/x-python",
   "name": "python",
   "nbconvert_exporter": "python",
   "pygments_lexer": "ipython3",
   "version": "3.8.10"
  }
 },
 "nbformat": 4,
 "nbformat_minor": 4
}
